{
 "cells": [
  {
   "cell_type": "code",
   "execution_count": 1,
   "metadata": {},
   "outputs": [],
   "source": [
    "import os"
   ]
  },
  {
   "cell_type": "code",
   "execution_count": 2,
   "metadata": {},
   "outputs": [
    {
     "data": {
      "text/plain": [
       "'d:\\\\Silent_Night\\\\mlops\\\\AML_Classification'"
      ]
     },
     "execution_count": 2,
     "metadata": {},
     "output_type": "execute_result"
    }
   ],
   "source": [
    "%pwd"
   ]
  },
  {
   "cell_type": "code",
   "execution_count": 3,
   "metadata": {},
   "outputs": [],
   "source": [
    "from AML_Classifier import logger\n",
    "from AML_Classifier.pipeline.stage_01_data_ingestion import DataIngestionTrainingPipeline"
   ]
  },
  {
   "cell_type": "code",
   "execution_count": 5,
   "metadata": {},
   "outputs": [
    {
     "name": "stdout",
     "output_type": "stream",
     "text": [
      "[2024-06-27 15:28:30,674: INFO: 3440599255: >>>>>>> Stage Data Ingestion stage started <<<<<<<]\n",
      "[2024-06-27 15:28:31,053: INFO: common: yaml file: config\\config.yaml loaded successfully]\n",
      "[2024-06-27 15:28:31,070: INFO: common: yaml file: params.yaml loaded successfully]\n",
      "[2024-06-27 15:28:31,076: INFO: common: created directory at: artifacts]\n",
      "[2024-06-27 15:28:31,076: INFO: common: created directory at: artifacts/data_ingestion]\n",
      "[2024-06-27 15:28:31,719: INFO: credentials: Found credentials in shared credentials file: ~/.aws/credentials]\n",
      "[2024-06-27 15:28:36,317: INFO: data_ingestion: Downloaded data from amaterasu AWS bucket into the path artifacts/data_ingestion/data.csv]\n",
      "[2024-06-27 15:28:36,336: INFO: 3440599255: >>>>>>> Stage Data Ingestion stage Completed <<<<<<< \n",
      " x=========================================x]\n"
     ]
    }
   ],
   "source": [
    "STAGE_NAME=\"Data Ingestion stage\"\n",
    "\n",
    "try:\n",
    "    logger.info(f\">>>>>>> Stage {STAGE_NAME} started <<<<<<<\")\n",
    "    obj = DataIngestionTrainingPipeline()\n",
    "    obj.main()\n",
    "    logger.info(f\">>>>>>> Stage {STAGE_NAME} Completed <<<<<<< \\n x=========================================x\")\n",
    "    \n",
    "except Exception as e:\n",
    "    logger.exception(e)\n",
    "    raise e "
   ]
  },
  {
   "cell_type": "code",
   "execution_count": null,
   "metadata": {},
   "outputs": [],
   "source": []
  }
 ],
 "metadata": {
  "kernelspec": {
   "display_name": "AML",
   "language": "python",
   "name": "python3"
  },
  "language_info": {
   "codemirror_mode": {
    "name": "ipython",
    "version": 3
   },
   "file_extension": ".py",
   "mimetype": "text/x-python",
   "name": "python",
   "nbconvert_exporter": "python",
   "pygments_lexer": "ipython3",
   "version": "3.8.19"
  }
 },
 "nbformat": 4,
 "nbformat_minor": 2
}
