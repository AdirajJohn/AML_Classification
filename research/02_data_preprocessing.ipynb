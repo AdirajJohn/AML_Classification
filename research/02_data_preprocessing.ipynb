{
 "cells": [
  {
   "cell_type": "markdown",
   "metadata": {},
   "source": [
    "### Data Prepocessing Step"
   ]
  },
  {
   "cell_type": "code",
   "execution_count": 1,
   "metadata": {},
   "outputs": [],
   "source": [
    "import pandas as pd"
   ]
  },
  {
   "cell_type": "code",
   "execution_count": 2,
   "metadata": {},
   "outputs": [],
   "source": [
    "import os"
   ]
  },
  {
   "cell_type": "code",
   "execution_count": 3,
   "metadata": {},
   "outputs": [
    {
     "data": {
      "text/plain": [
       "'d:\\\\Silent_Night\\\\mlops\\\\AML_Classification\\\\research'"
      ]
     },
     "execution_count": 3,
     "metadata": {},
     "output_type": "execute_result"
    }
   ],
   "source": [
    "%pwd"
   ]
  },
  {
   "cell_type": "code",
   "execution_count": 4,
   "metadata": {},
   "outputs": [],
   "source": [
    "os.chdir(\"../\")"
   ]
  },
  {
   "cell_type": "code",
   "execution_count": 78,
   "metadata": {},
   "outputs": [
    {
     "data": {
      "text/plain": [
       "'d:\\\\Silent_Night\\\\mlops\\\\AML_Classification'"
      ]
     },
     "execution_count": 78,
     "metadata": {},
     "output_type": "execute_result"
    }
   ],
   "source": [
    "%pwd"
   ]
  },
  {
   "cell_type": "code",
   "execution_count": 29,
   "metadata": {},
   "outputs": [],
   "source": [
    "df=pd.read_csv(\"artifacts/data_ingestion/data.csv\")\n",
    "categorical_feature = ['receiving_currency', 'Payment_Currency', 'Payment Format',\"is_laundering\"]\n",
    "continuous_feature = ['from_bank', 'to_bank', 'amount_received', 'amount_paid']"
   ]
  },
  {
   "cell_type": "code",
   "execution_count": 30,
   "metadata": {},
   "outputs": [],
   "source": [
    "from sklearn.preprocessing import StandardScaler,LabelEncoder\n",
    "le=LabelEncoder()\n",
    "sc=StandardScaler()"
   ]
  },
  {
   "cell_type": "code",
   "execution_count": 31,
   "metadata": {},
   "outputs": [
    {
     "data": {
      "text/html": [
       "<style>#sk-container-id-1 {color: black;}#sk-container-id-1 pre{padding: 0;}#sk-container-id-1 div.sk-toggleable {background-color: white;}#sk-container-id-1 label.sk-toggleable__label {cursor: pointer;display: block;width: 100%;margin-bottom: 0;padding: 0.3em;box-sizing: border-box;text-align: center;}#sk-container-id-1 label.sk-toggleable__label-arrow:before {content: \"▸\";float: left;margin-right: 0.25em;color: #696969;}#sk-container-id-1 label.sk-toggleable__label-arrow:hover:before {color: black;}#sk-container-id-1 div.sk-estimator:hover label.sk-toggleable__label-arrow:before {color: black;}#sk-container-id-1 div.sk-toggleable__content {max-height: 0;max-width: 0;overflow: hidden;text-align: left;background-color: #f0f8ff;}#sk-container-id-1 div.sk-toggleable__content pre {margin: 0.2em;color: black;border-radius: 0.25em;background-color: #f0f8ff;}#sk-container-id-1 input.sk-toggleable__control:checked~div.sk-toggleable__content {max-height: 200px;max-width: 100%;overflow: auto;}#sk-container-id-1 input.sk-toggleable__control:checked~label.sk-toggleable__label-arrow:before {content: \"▾\";}#sk-container-id-1 div.sk-estimator input.sk-toggleable__control:checked~label.sk-toggleable__label {background-color: #d4ebff;}#sk-container-id-1 div.sk-label input.sk-toggleable__control:checked~label.sk-toggleable__label {background-color: #d4ebff;}#sk-container-id-1 input.sk-hidden--visually {border: 0;clip: rect(1px 1px 1px 1px);clip: rect(1px, 1px, 1px, 1px);height: 1px;margin: -1px;overflow: hidden;padding: 0;position: absolute;width: 1px;}#sk-container-id-1 div.sk-estimator {font-family: monospace;background-color: #f0f8ff;border: 1px dotted black;border-radius: 0.25em;box-sizing: border-box;margin-bottom: 0.5em;}#sk-container-id-1 div.sk-estimator:hover {background-color: #d4ebff;}#sk-container-id-1 div.sk-parallel-item::after {content: \"\";width: 100%;border-bottom: 1px solid gray;flex-grow: 1;}#sk-container-id-1 div.sk-label:hover label.sk-toggleable__label {background-color: #d4ebff;}#sk-container-id-1 div.sk-serial::before {content: \"\";position: absolute;border-left: 1px solid gray;box-sizing: border-box;top: 0;bottom: 0;left: 50%;z-index: 0;}#sk-container-id-1 div.sk-serial {display: flex;flex-direction: column;align-items: center;background-color: white;padding-right: 0.2em;padding-left: 0.2em;position: relative;}#sk-container-id-1 div.sk-item {position: relative;z-index: 1;}#sk-container-id-1 div.sk-parallel {display: flex;align-items: stretch;justify-content: center;background-color: white;position: relative;}#sk-container-id-1 div.sk-item::before, #sk-container-id-1 div.sk-parallel-item::before {content: \"\";position: absolute;border-left: 1px solid gray;box-sizing: border-box;top: 0;bottom: 0;left: 50%;z-index: -1;}#sk-container-id-1 div.sk-parallel-item {display: flex;flex-direction: column;z-index: 1;position: relative;background-color: white;}#sk-container-id-1 div.sk-parallel-item:first-child::after {align-self: flex-end;width: 50%;}#sk-container-id-1 div.sk-parallel-item:last-child::after {align-self: flex-start;width: 50%;}#sk-container-id-1 div.sk-parallel-item:only-child::after {width: 0;}#sk-container-id-1 div.sk-dashed-wrapped {border: 1px dashed gray;margin: 0 0.4em 0.5em 0.4em;box-sizing: border-box;padding-bottom: 0.4em;background-color: white;}#sk-container-id-1 div.sk-label label {font-family: monospace;font-weight: bold;display: inline-block;line-height: 1.2em;}#sk-container-id-1 div.sk-label-container {text-align: center;}#sk-container-id-1 div.sk-container {/* jupyter's `normalize.less` sets `[hidden] { display: none; }` but bootstrap.min.css set `[hidden] { display: none !important; }` so we also need the `!important` here to be able to override the default hidden behavior on the sphinx rendered scikit-learn.org. See: https://github.com/scikit-learn/scikit-learn/issues/21755 */display: inline-block !important;position: relative;}#sk-container-id-1 div.sk-text-repr-fallback {display: none;}</style><div id=\"sk-container-id-1\" class=\"sk-top-container\"><div class=\"sk-text-repr-fallback\"><pre>StandardScaler()</pre><b>In a Jupyter environment, please rerun this cell to show the HTML representation or trust the notebook. <br />On GitHub, the HTML representation is unable to render, please try loading this page with nbviewer.org.</b></div><div class=\"sk-container\" hidden><div class=\"sk-item\"><div class=\"sk-estimator sk-toggleable\"><input class=\"sk-toggleable__control sk-hidden--visually\" id=\"sk-estimator-id-1\" type=\"checkbox\" checked><label for=\"sk-estimator-id-1\" class=\"sk-toggleable__label sk-toggleable__label-arrow\">StandardScaler</label><div class=\"sk-toggleable__content\"><pre>StandardScaler()</pre></div></div></div></div></div>"
      ],
      "text/plain": [
       "StandardScaler()"
      ]
     },
     "execution_count": 31,
     "metadata": {},
     "output_type": "execute_result"
    }
   ],
   "source": [
    "df1=pd.DataFrame\n",
    "sc.fit(df[continuous_feature])"
   ]
  },
  {
   "cell_type": "code",
   "execution_count": 38,
   "metadata": {},
   "outputs": [],
   "source": [
    "df1=sc.transform(df[continuous_feature])\n",
    "df1 = pd.DataFrame(df1, columns=continuous_feature)"
   ]
  },
  {
   "cell_type": "code",
   "execution_count": 39,
   "metadata": {},
   "outputs": [
    {
     "name": "stdout",
     "output_type": "stream",
     "text": [
      "      from_bank   to_bank  amount_received  amount_paid\n",
      "0     -0.590439 -0.481927        -0.018969    -0.018856\n",
      "1     -0.590439  1.854354        -0.019002    -0.018889\n",
      "2     -0.590439 -0.621317        -0.018044    -0.017931\n",
      "3     -0.438094  2.300571        -0.019032    -0.018919\n",
      "4     -0.590439 -0.613179        -0.019031    -0.018918\n",
      "...         ...       ...              ...          ...\n",
      "9833  -0.363817 -0.541974        -0.019031    -0.018918\n",
      "9834  -0.591208 -0.725184        -0.018211    -0.018098\n",
      "9835  -0.428273 -0.613964        -0.019031    -0.018918\n",
      "9836  -0.191446 -0.376734        -0.019032    -0.018919\n",
      "9837  -0.549568 -0.740589        -0.019033    -0.018919\n",
      "\n",
      "[9838 rows x 4 columns]\n"
     ]
    }
   ],
   "source": [
    "print(df1)"
   ]
  },
  {
   "cell_type": "code",
   "execution_count": 50,
   "metadata": {},
   "outputs": [
    {
     "data": {
      "text/plain": [
       "{'classes_': array(['Australian Dollar', 'Bitcoin', 'Brazil Real', 'Canadian Dollar',\n",
       "        'Euro', 'Mexican Peso', 'Ruble', 'Rupee', 'Saudi Riyal', 'Shekel',\n",
       "        'Swiss Franc', 'UK Pound', 'US Dollar', 'Yen', 'Yuan'],\n",
       "       dtype=object)}"
      ]
     },
     "execution_count": 50,
     "metadata": {},
     "output_type": "execute_result"
    }
   ],
   "source": [
    "le = LabelEncoder()\n",
    "le.fit(df['receiving_currency'])\n",
    "df_le=le.transform(df['receiving_currency'])\n",
    "df_le1=pd.DataFrame(df_le,columns=['receiving_currency'])\n",
    "le.__dict__"
   ]
  },
  {
   "cell_type": "code",
   "execution_count": 52,
   "metadata": {},
   "outputs": [],
   "source": [
    "import pickle"
   ]
  },
  {
   "cell_type": "code",
   "execution_count": 53,
   "metadata": {},
   "outputs": [
    {
     "name": "stderr",
     "output_type": "stream",
     "text": [
      "c:\\Users\\JOHN\\anaconda3\\envs\\AML\\lib\\site-packages\\sklearn\\preprocessing\\_label.py:114: DataConversionWarning: A column-vector y was passed when a 1d array was expected. Please change the shape of y to (n_samples, ), for example using ravel().\n",
      "  y = column_or_1d(y, warn=True)\n",
      "c:\\Users\\JOHN\\anaconda3\\envs\\AML\\lib\\site-packages\\sklearn\\preprocessing\\_label.py:114: DataConversionWarning: A column-vector y was passed when a 1d array was expected. Please change the shape of y to (n_samples, ), for example using ravel().\n",
      "  y = column_or_1d(y, warn=True)\n",
      "c:\\Users\\JOHN\\anaconda3\\envs\\AML\\lib\\site-packages\\sklearn\\preprocessing\\_label.py:114: DataConversionWarning: A column-vector y was passed when a 1d array was expected. Please change the shape of y to (n_samples, ), for example using ravel().\n",
      "  y = column_or_1d(y, warn=True)\n",
      "c:\\Users\\JOHN\\anaconda3\\envs\\AML\\lib\\site-packages\\sklearn\\preprocessing\\_label.py:114: DataConversionWarning: A column-vector y was passed when a 1d array was expected. Please change the shape of y to (n_samples, ), for example using ravel().\n",
      "  y = column_or_1d(y, warn=True)\n"
     ]
    }
   ],
   "source": [
    "df_le=pd.DataFrame()\n",
    "for i in categorical_feature:\n",
    "    le.fit_transform(df[[i]])\n",
    "    with open(f\"artifacts/model_data/le_{i}.plk\",\"wb\") as file:\n",
    "        pickle.dump(le,file)"
   ]
  },
  {
   "cell_type": "code",
   "execution_count": 51,
   "metadata": {},
   "outputs": [
    {
     "name": "stdout",
     "output_type": "stream",
     "text": [
      "Label Mapping: {'Australian Dollar': 0, 'Bitcoin': 1, 'Brazil Real': 2, 'Canadian Dollar': 3, 'Euro': 4, 'Mexican Peso': 5, 'Ruble': 6, 'Rupee': 7, 'Saudi Riyal': 8, 'Shekel': 9, 'Swiss Franc': 10, 'UK Pound': 11, 'US Dollar': 12, 'Yen': 13, 'Yuan': 14}\n"
     ]
    }
   ],
   "source": [
    "print(\"Label Mapping:\", dict(zip(le.classes_, range(len(le.classes_)))))"
   ]
  },
  {
   "cell_type": "code",
   "execution_count": 18,
   "metadata": {},
   "outputs": [],
   "source": [
    "#update entity\n",
    "from dataclasses import dataclass \n",
    "from pathlib import Path\n",
    "\n",
    "@dataclass(frozen=True)# To ensure that we give correct type of input as specified for the data ingestion process.\n",
    "class dataprocessingconfig:\n",
    "    root_dir: Path\n",
    "    drop_feature: list\n",
    "    categorical_feature: list\n",
    "    continuous_feature: list\n",
    "    save_processed_data: Path\n",
    "    save_label_encoder: Path\n",
    "    save_scaler_obj: Path\n",
    "    downloaded_data: Path"
   ]
  },
  {
   "cell_type": "code",
   "execution_count": 19,
   "metadata": {},
   "outputs": [],
   "source": [
    "#update configration manger\n",
    "from AML_Classifier.constants.__init__ import CONFIG_FILE_PATH,PARAMS_FILE_PATH\n",
    "from AML_Classifier.utils.common import read_yaml, create_directories\n",
    "\n",
    "class ConfigurationManager:\n",
    "    def __init__(self,config_filepath = CONFIG_FILE_PATH,params_filepath = PARAMS_FILE_PATH):\n",
    "        self.config= read_yaml(config_filepath)\n",
    "        self.params=read_yaml(params_filepath)\n",
    "\n",
    "        create_directories([self.config.artifacts_root])\n",
    "\n",
    "    def get_data_process_config(self) -> dataprocessingconfig:\n",
    "        config = self.config.data_prepocess\n",
    "        create_directories([config.root_dir])\n",
    "        downloaded_data = os.path.join(self.config.data_ingestion.root_dir,\"data.csv\")\n",
    "\n",
    "        data_process_config= dataprocessingconfig(\n",
    "            root_dir = Path(config.root_dir),\n",
    "            drop_feature=config.drop_feature,\n",
    "            categorical_feature = config.categorical_feature,\n",
    "            continuous_feature = config.continuous_feature,\n",
    "            downloaded_data=Path(downloaded_data),\n",
    "            save_processed_data=Path(config.save_processed_data),\n",
    "            save_label_encoder  = Path(config.save_label_encoder),\n",
    "            save_scaler_obj = Path(config.save_scaler_obj)\n",
    "            )\n",
    "        return data_process_config"
   ]
  },
  {
   "cell_type": "code",
   "execution_count": 79,
   "metadata": {},
   "outputs": [],
   "source": [
    "#update the compontents\n",
    "import pandas as pd\n",
    "from sklearn.preprocessing import LabelEncoder, StandardScaler\n",
    "import pickle\n",
    "import numpy as np"
   ]
  },
  {
   "cell_type": "code",
   "execution_count": 92,
   "metadata": {},
   "outputs": [],
   "source": [
    "class Processdata:\n",
    "    def __init__(self,config: dataprocessingconfig):\n",
    "        self.config = config\n",
    "\n",
    "    def preprocessing(self):\n",
    "        df=pd.read_csv(self.config.downloaded_data)\n",
    "        #Drop the unnessary feature\n",
    "        df=df.drop(self.config.drop_feature,axis=1)\n",
    "        #Intialize a dataframe\n",
    "        processed_df=pd.DataFrame()\n",
    "\n",
    "        #Label encoding\n",
    "        df_le=pd.DataFrame()\n",
    "        le = LabelEncoder()\n",
    "        for i in self.config.categorical_feature:\n",
    "            num_df=np.array(df[[i]])\n",
    "            df_le[i]=le.fit_transform(num_df.ravel())\n",
    "            with open(f\"{self.config.save_label_encoder}/le_{i}.pkl\",\"wb\") as file:\n",
    "                pickle.dump(le,file)\n",
    "\n",
    "        #Scaling the continous variable\n",
    "        sc = StandardScaler()\n",
    "        sc.fit(df[self.config.continuous_feature])\n",
    "        df_sc=sc.transform(df[self.config.continuous_feature])\n",
    "        df_sc1=pd.DataFrame(df_sc, columns=self.config.continuous_feature)\n",
    "\n",
    "        processed_df=pd.concat([df_le,df_sc1], axis=1)\n",
    "\n",
    "        #Save the Scaler\n",
    "        with open(self.config.save_scaler_obj,\"wb\") as file:\n",
    "            pickle.dump(sc, file)\n",
    "        \n",
    "\n",
    "        #Save the file\n",
    "        processed_df.to_csv(self.config.save_processed_data,index=False)"
   ]
  },
  {
   "cell_type": "code",
   "execution_count": 94,
   "metadata": {},
   "outputs": [
    {
     "name": "stdout",
     "output_type": "stream",
     "text": [
      "[2024-07-03 14:35:03,895: INFO: common: yaml file: config\\config.yaml loaded successfully]\n"
     ]
    },
    {
     "name": "stdout",
     "output_type": "stream",
     "text": [
      "[2024-07-03 14:35:03,895: INFO: common: yaml file: params.yaml loaded successfully]\n",
      "[2024-07-03 14:35:03,903: INFO: common: created directory at: artifacts]\n",
      "[2024-07-03 14:35:03,903: INFO: common: created directory at: artifacts/model_data]\n"
     ]
    }
   ],
   "source": [
    "#pipeline\n",
    "try:\n",
    "    config = ConfigurationManager()\n",
    "    get_data_process_config = config.get_data_process_config()\n",
    "    Process_data = Processdata(config = get_data_process_config)\n",
    "    Process_data.preprocessing()\n",
    "except Exception as e:\n",
    "    raise e"
   ]
  },
  {
   "cell_type": "code",
   "execution_count": null,
   "metadata": {},
   "outputs": [],
   "source": []
  }
 ],
 "metadata": {
  "kernelspec": {
   "display_name": "AML",
   "language": "python",
   "name": "python3"
  },
  "language_info": {
   "codemirror_mode": {
    "name": "ipython",
    "version": 3
   },
   "file_extension": ".py",
   "mimetype": "text/x-python",
   "name": "python",
   "nbconvert_exporter": "python",
   "pygments_lexer": "ipython3",
   "version": "3.8.19"
  }
 },
 "nbformat": 4,
 "nbformat_minor": 2
}
