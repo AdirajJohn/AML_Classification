{
 "cells": [
  {
   "cell_type": "markdown",
   "metadata": {},
   "source": [
    "### Data Prepocessing Step"
   ]
  },
  {
   "cell_type": "code",
   "execution_count": 1,
   "metadata": {},
   "outputs": [],
   "source": [
    "import pandas as pd"
   ]
  },
  {
   "cell_type": "code",
   "execution_count": 2,
   "metadata": {},
   "outputs": [],
   "source": [
    "import os"
   ]
  },
  {
   "cell_type": "code",
   "execution_count": 3,
   "metadata": {},
   "outputs": [
    {
     "data": {
      "text/plain": [
       "'d:\\\\Silent_Night\\\\mlops\\\\AML_Classification\\\\research'"
      ]
     },
     "execution_count": 3,
     "metadata": {},
     "output_type": "execute_result"
    }
   ],
   "source": [
    "%pwd"
   ]
  },
  {
   "cell_type": "code",
   "execution_count": 4,
   "metadata": {},
   "outputs": [],
   "source": [
    "os.chdir(\"../\")"
   ]
  },
  {
   "cell_type": "code",
   "execution_count": 5,
   "metadata": {},
   "outputs": [
    {
     "data": {
      "text/plain": [
       "'d:\\\\Silent_Night\\\\mlops\\\\AML_Classification'"
      ]
     },
     "execution_count": 5,
     "metadata": {},
     "output_type": "execute_result"
    }
   ],
   "source": [
    "%pwd"
   ]
  },
  {
   "cell_type": "code",
   "execution_count": 8,
   "metadata": {},
   "outputs": [],
   "source": [
    "#update entity\n",
    "from dataclasses import dataclass \n",
    "from pathlib import Path\n",
    "\n",
    "@dataclass(frozen=True)# To ensure that we give correct type of input as specified for the data ingestion process.\n",
    "class dataprocessingconfig:\n",
    "    root_dir: Path\n",
    "    drop_feature: list\n",
    "    categorical_feature: list\n",
    "    continuous_feature: list\n",
    "    save_processed_data: Path\n",
    "    downloaded_data: Path"
   ]
  },
  {
   "cell_type": "code",
   "execution_count": 9,
   "metadata": {},
   "outputs": [],
   "source": [
    "#update configration manger\n",
    "from AML_Classifier.constants.__init__ import CONFIG_FILE_PATH,PARAMS_FILE_PATH\n",
    "from AML_Classifier.utils.common import read_yaml, create_directories\n",
    "\n",
    "class ConfigurationManager:\n",
    "    def __init__(self,config_filepath = CONFIG_FILE_PATH,params_filepath = PARAMS_FILE_PATH):\n",
    "        self.config= read_yaml(config_filepath)\n",
    "        self.params=read_yaml(params_filepath)\n",
    "\n",
    "        create_directories([self.config.artifacts_root])\n",
    "\n",
    "    def get_data_process_config(self) -> dataprocessingconfig:\n",
    "        config = self.config.data_prepocess\n",
    "        create_directories([config.root_dir])\n",
    "        downloaded_data = os.path.join(self.config.data_ingestion.root_dir,\"data.csv\")\n",
    "\n",
    "        data_process_config= dataprocessingconfig(\n",
    "            root_dir = Path(config.root_dir),\n",
    "            drop_feature=config.drop_feature,\n",
    "            categorical_feature = config.categorical_feature,\n",
    "            continuous_feature = config.continuous_feature,\n",
    "            downloaded_data=Path(downloaded_data),\n",
    "            save_processed_data=Path(config.save_processed_data)\n",
    "            )\n",
    "        return data_process_config"
   ]
  },
  {
   "cell_type": "code",
   "execution_count": 21,
   "metadata": {},
   "outputs": [],
   "source": [
    "#update the compontents\n",
    "import pandas as pd\n",
    "from sklearn.preprocessing import LabelEncoder, StandardScaler"
   ]
  },
  {
   "cell_type": "code",
   "execution_count": 23,
   "metadata": {},
   "outputs": [],
   "source": [
    "class Processdata:\n",
    "    def __init__(self,config: dataprocessingconfig):\n",
    "        self.config = config\n",
    "\n",
    "    def preprocessing(self):\n",
    "        df=pd.read_csv(self.config.downloaded_data)\n",
    "        #Drop the unnessary feature\n",
    "        df=df.drop(self.config.drop_feature,axis=1)\n",
    "        #Intialize a dataframe\n",
    "        processed_df=pd.DataFrame()\n",
    "        #Label encoding\n",
    "        label_encoder = LabelEncoder()\n",
    "        for i in list(self.config.categorical_feature):\n",
    "            processed_df[i]=label_encoder.fit_transform(df[i])\n",
    "\n",
    "        #Scaling the continous variable\n",
    "        standard_scaler = StandardScaler()\n",
    "        for i in list(self.config.continuous_feature):\n",
    "            processed_df[i]=standard_scaler.fit_transform(df[[i]])\n",
    "\n",
    "        #Save the file\n",
    "        processed_df.to_csv(str(self.config.save_processed_data),index=False)"
   ]
  },
  {
   "cell_type": "code",
   "execution_count": 27,
   "metadata": {},
   "outputs": [
    {
     "name": "stdout",
     "output_type": "stream",
     "text": [
      "[2024-06-28 19:07:11,992: INFO: common: yaml file: config\\config.yaml loaded successfully]\n",
      "[2024-06-28 19:07:12,004: INFO: common: yaml file: params.yaml loaded successfully]\n",
      "[2024-06-28 19:07:12,004: INFO: common: created directory at: artifacts]\n",
      "[2024-06-28 19:07:12,022: INFO: common: created directory at: artifacts/model_data]\n"
     ]
    }
   ],
   "source": [
    "#pipeline\n",
    "try:\n",
    "    config = ConfigurationManager()\n",
    "    get_data_process_config = config.get_data_process_config()\n",
    "    Process_data = Processdata(config = get_data_process_config)\n",
    "    Process_data.preprocessing()\n",
    "except Exception as e:\n",
    "    raise e"
   ]
  },
  {
   "cell_type": "code",
   "execution_count": null,
   "metadata": {},
   "outputs": [],
   "source": []
  }
 ],
 "metadata": {
  "kernelspec": {
   "display_name": "AML",
   "language": "python",
   "name": "python3"
  },
  "language_info": {
   "codemirror_mode": {
    "name": "ipython",
    "version": 3
   },
   "file_extension": ".py",
   "mimetype": "text/x-python",
   "name": "python",
   "nbconvert_exporter": "python",
   "pygments_lexer": "ipython3",
   "version": "3.8.19"
  }
 },
 "nbformat": 4,
 "nbformat_minor": 2
}
