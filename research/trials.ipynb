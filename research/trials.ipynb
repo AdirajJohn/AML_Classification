{
 "cells": [
  {
   "cell_type": "code",
   "execution_count": 1,
   "metadata": {},
   "outputs": [],
   "source": [
    "from sklearn.ensemble import RandomForestClassifier \n",
    "from sklearn.model_selection import GridSearchCV\n",
    "from sklearn.model_selection import train_test_split\n",
    "import os"
   ]
  },
  {
   "cell_type": "code",
   "execution_count": 2,
   "metadata": {},
   "outputs": [
    {
     "name": "stdout",
     "output_type": "stream",
     "text": [
      "   Humidity  Temperature  Step count  Stress Level\n",
      "0     21.33        90.33         123             1\n",
      "1     21.41        90.41          93             1\n",
      "2     27.12        96.12         196             2\n",
      "3     27.64        96.64         177             2\n",
      "4     10.87        79.87          87             0\n"
     ]
    }
   ],
   "source": [
    "import pandas as pd\n",
    "data=pd.read_csv(\"D:/data/classification_data/stress_data/stress_300.csv\")\n",
    "print(data.head())"
   ]
  },
  {
   "cell_type": "code",
   "execution_count": 5,
   "metadata": {},
   "outputs": [],
   "source": [
    "y=data[[\"Stress Level\"]]\n",
    "x=data.drop([\"Stress Level\"],axis=1)"
   ]
  },
  {
   "cell_type": "code",
   "execution_count": 6,
   "metadata": {},
   "outputs": [
    {
     "name": "stdout",
     "output_type": "stream",
     "text": [
      "Fitting 3 folds for each of 648 candidates, totalling 1944 fits\n"
     ]
    },
    {
     "name": "stderr",
     "output_type": "stream",
     "text": [
      "c:\\Users\\JOHN\\anaconda3\\envs\\AML\\lib\\site-packages\\sklearn\\model_selection\\_validation.py:425: FitFailedWarning: \n",
      "648 fits failed out of a total of 1944.\n",
      "The score on these train-test partitions for these parameters will be set to nan.\n",
      "If these failures are not expected, you can try to debug them by setting error_score='raise'.\n",
      "\n",
      "Below are more details about the failures:\n",
      "--------------------------------------------------------------------------------\n",
      "217 fits failed with the following error:\n",
      "Traceback (most recent call last):\n",
      "  File \"c:\\Users\\JOHN\\anaconda3\\envs\\AML\\lib\\site-packages\\sklearn\\model_selection\\_validation.py\", line 729, in _fit_and_score\n",
      "    estimator.fit(X_train, y_train, **fit_params)\n",
      "  File \"c:\\Users\\JOHN\\anaconda3\\envs\\AML\\lib\\site-packages\\sklearn\\base.py\", line 1145, in wrapper\n",
      "    estimator._validate_params()\n",
      "  File \"c:\\Users\\JOHN\\anaconda3\\envs\\AML\\lib\\site-packages\\sklearn\\base.py\", line 638, in _validate_params\n",
      "    validate_parameter_constraints(\n",
      "  File \"c:\\Users\\JOHN\\anaconda3\\envs\\AML\\lib\\site-packages\\sklearn\\utils\\_param_validation.py\", line 96, in validate_parameter_constraints\n",
      "    raise InvalidParameterError(\n",
      "sklearn.utils._param_validation.InvalidParameterError: The 'max_features' parameter of RandomForestClassifier must be an int in the range [1, inf), a float in the range (0.0, 1.0], a str among {'sqrt', 'log2'} or None. Got 'auto' instead.\n",
      "\n",
      "--------------------------------------------------------------------------------\n",
      "431 fits failed with the following error:\n",
      "Traceback (most recent call last):\n",
      "  File \"c:\\Users\\JOHN\\anaconda3\\envs\\AML\\lib\\site-packages\\sklearn\\model_selection\\_validation.py\", line 729, in _fit_and_score\n",
      "    estimator.fit(X_train, y_train, **fit_params)\n",
      "  File \"c:\\Users\\JOHN\\anaconda3\\envs\\AML\\lib\\site-packages\\sklearn\\base.py\", line 1145, in wrapper\n",
      "    estimator._validate_params()\n",
      "  File \"c:\\Users\\JOHN\\anaconda3\\envs\\AML\\lib\\site-packages\\sklearn\\base.py\", line 638, in _validate_params\n",
      "    validate_parameter_constraints(\n",
      "  File \"c:\\Users\\JOHN\\anaconda3\\envs\\AML\\lib\\site-packages\\sklearn\\utils\\_param_validation.py\", line 96, in validate_parameter_constraints\n",
      "    raise InvalidParameterError(\n",
      "sklearn.utils._param_validation.InvalidParameterError: The 'max_features' parameter of RandomForestClassifier must be an int in the range [1, inf), a float in the range (0.0, 1.0], a str among {'log2', 'sqrt'} or None. Got 'auto' instead.\n",
      "\n",
      "  warnings.warn(some_fits_failed_message, FitFailedWarning)\n",
      "c:\\Users\\JOHN\\anaconda3\\envs\\AML\\lib\\site-packages\\sklearn\\model_selection\\_search.py:979: UserWarning: One or more of the test scores are non-finite: [       nan        nan        nan        nan        nan        nan\n",
      "        nan        nan        nan        nan        nan        nan\n",
      "        nan        nan        nan        nan        nan        nan\n",
      "        nan        nan        nan        nan        nan        nan\n",
      "        nan        nan        nan 0.97777778 0.97777778 0.97777778\n",
      " 0.97777778 0.97777778 0.97777778 0.97777778 0.97777778 0.97777778\n",
      " 0.97777778 0.97777778 0.97777778 0.97777778 0.97777778 0.97777778\n",
      " 0.95555556 0.95555556 0.95555556 0.88730159 0.88730159 0.91111111\n",
      " 0.88730159 0.88730159 0.91111111 0.88730159 0.88730159 0.88730159\n",
      " 0.97777778 0.97777778 0.97777778 0.97777778 0.97777778 0.97777778\n",
      " 0.97777778 0.95555556 0.97777778 0.97777778 0.97777778 0.97777778\n",
      " 0.97777778 0.97777778 0.97777778 0.97777778 0.97777778 0.97777778\n",
      " 0.91111111 0.91111111 0.91111111 0.88730159 0.91111111 0.91111111\n",
      " 0.88730159 0.91111111 0.88730159        nan        nan        nan\n",
      "        nan        nan        nan        nan        nan        nan\n",
      "        nan        nan        nan        nan        nan        nan\n",
      "        nan        nan        nan        nan        nan        nan\n",
      "        nan        nan        nan        nan        nan        nan\n",
      " 0.97777778 0.97777778 0.97777778 0.97777778 0.97777778 0.97777778\n",
      " 0.97777778 0.97777778 0.97777778 0.97777778 0.97777778 0.97777778\n",
      " 0.97777778 0.97777778 0.97777778 0.95555556 0.95555556 0.95555556\n",
      " 0.91111111 0.91111111 0.91111111 0.91111111 0.91111111 0.91111111\n",
      " 0.88730159 0.88730159 0.91111111 0.97777778 0.97777778 0.97777778\n",
      " 0.97777778 0.97777778 0.97777778 0.97777778 0.95555556 0.97777778\n",
      " 0.97777778 0.97777778 0.97777778 0.97777778 0.97777778 0.97777778\n",
      " 0.95555556 0.95555556 0.95555556 0.91111111 0.91111111 0.91111111\n",
      " 0.88730159 0.91111111 0.91111111 0.88730159 0.88730159 0.91111111\n",
      "        nan        nan        nan        nan        nan        nan\n",
      "        nan        nan        nan        nan        nan        nan\n",
      "        nan        nan        nan        nan        nan        nan\n",
      "        nan        nan        nan        nan        nan        nan\n",
      "        nan        nan        nan 0.97777778 0.97777778 0.97777778\n",
      " 0.97777778 0.97777778 0.97777778 0.97777778 0.97777778 0.97777778\n",
      " 0.97777778 0.97777778 0.97777778 0.97777778 0.97777778 0.97777778\n",
      " 0.95555556 0.95555556 0.95555556 0.91111111 0.91111111 0.91111111\n",
      " 0.91111111 0.91111111 0.91111111 0.91111111 0.88730159 0.91111111\n",
      " 0.97777778 0.97777778 0.97777778 0.97777778 0.97777778 0.97777778\n",
      " 0.97777778 0.95555556 0.97777778 0.97777778 0.97777778 0.97777778\n",
      " 0.97777778 0.97777778 0.97777778 0.97777778 0.95555556 0.95555556\n",
      " 0.88730159 0.91111111 0.91111111 0.91111111 0.91111111 0.91111111\n",
      " 0.88730159 0.91111111 0.88730159        nan        nan        nan\n",
      "        nan        nan        nan        nan        nan        nan\n",
      "        nan        nan        nan        nan        nan        nan\n",
      "        nan        nan        nan        nan        nan        nan\n",
      "        nan        nan        nan        nan        nan        nan\n",
      " 0.97777778 0.97777778 0.97777778 0.97777778 0.97777778 0.97777778\n",
      " 0.97777778 0.97777778 0.95555556 0.97777778 0.97777778 0.97777778\n",
      " 0.97777778 0.97777778 0.97777778 0.95555556 0.93333333 0.95555556\n",
      " 0.91111111 0.88730159 0.91111111 0.91111111 0.91111111 0.91111111\n",
      " 0.91111111 0.88730159 0.88730159 0.97777778 0.97777778 0.97777778\n",
      " 0.97777778 0.97777778 0.97777778 0.97777778 0.95555556 0.97777778\n",
      " 0.97777778 0.97777778 0.97777778 0.97777778 0.97777778 0.97777778\n",
      " 0.95555556 0.95555556 0.95555556 0.95555556 0.91111111 0.91111111\n",
      " 0.91111111 0.91111111 0.91111111 0.88730159 0.88730159 0.91111111\n",
      "        nan        nan        nan        nan        nan        nan\n",
      "        nan        nan        nan        nan        nan        nan\n",
      "        nan        nan        nan        nan        nan        nan\n",
      "        nan        nan        nan        nan        nan        nan\n",
      "        nan        nan        nan 0.97777778 0.97777778 0.97777778\n",
      " 0.97777778 0.97777778 0.97777778 0.97777778 0.97777778 0.97777778\n",
      " 0.97777778 0.97777778 0.97777778 0.97777778 0.97777778 0.97777778\n",
      " 0.97777778 0.97777778 0.97777778 0.95555556 0.95555556 0.97777778\n",
      " 0.97777778 0.95555556 0.95555556 0.97777778 0.95555556 0.97777778\n",
      " 0.97777778 0.97777778 0.97777778 0.97777778 0.97777778 0.97777778\n",
      " 0.97777778 0.97777778 0.97777778 0.97777778 0.97777778 0.97777778\n",
      " 0.97777778 0.97777778 0.97777778 0.97777778 0.97777778 0.97777778\n",
      " 0.95555556 0.95555556 0.97777778 0.97777778 0.95555556 0.97777778\n",
      " 0.95555556 0.97777778 0.97777778        nan        nan        nan\n",
      "        nan        nan        nan        nan        nan        nan\n",
      "        nan        nan        nan        nan        nan        nan\n",
      "        nan        nan        nan        nan        nan        nan\n",
      "        nan        nan        nan        nan        nan        nan\n",
      " 0.97777778 0.97777778 0.97777778 0.97777778 0.97777778 0.97777778\n",
      " 0.97777778 0.97777778 0.97777778 0.97777778 0.97777778 0.97777778\n",
      " 0.97777778 0.97777778 0.97777778 0.97777778 0.97777778 0.97777778\n",
      " 0.97777778 0.97777778 0.97777778 0.95555556 0.97777778 0.95555556\n",
      " 0.95555556 0.97777778 0.97777778 0.97777778 0.97777778 0.97777778\n",
      " 0.97777778 0.97777778 0.97777778 0.97777778 0.97777778 0.97777778\n",
      " 0.97777778 0.97777778 0.97777778 0.97777778 0.97777778 0.97777778\n",
      " 0.97777778 0.97777778 0.97777778 0.97777778 0.95555556 0.97777778\n",
      " 0.95555556 0.95555556 0.97777778 0.95555556 0.95555556 0.95555556\n",
      "        nan        nan        nan        nan        nan        nan\n",
      "        nan        nan        nan        nan        nan        nan\n",
      "        nan        nan        nan        nan        nan        nan\n",
      "        nan        nan        nan        nan        nan        nan\n",
      "        nan        nan        nan 0.97777778 0.97777778 0.97777778\n",
      " 0.97777778 0.97777778 0.97777778 0.97777778 0.97777778 0.97777778\n",
      " 0.97777778 0.97777778 0.97777778 0.97777778 0.97777778 0.97777778\n",
      " 0.97777778 0.97777778 0.97777778 0.95555556 0.95555556 0.97777778\n",
      " 0.97777778 0.95555556 0.95555556 0.97777778 0.95555556 0.95555556\n",
      " 0.97777778 0.97777778 0.97777778 0.97777778 0.97777778 0.97777778\n",
      " 0.97777778 0.97777778 0.97777778 0.97777778 0.97777778 0.97777778\n",
      " 0.97777778 0.97777778 0.97777778 0.97777778 0.97777778 0.97777778\n",
      " 0.95555556 0.95555556 0.97777778 0.97777778 0.95555556 0.95555556\n",
      " 0.95555556 0.97777778 0.95555556        nan        nan        nan\n",
      "        nan        nan        nan        nan        nan        nan\n",
      "        nan        nan        nan        nan        nan        nan\n",
      "        nan        nan        nan        nan        nan        nan\n",
      "        nan        nan        nan        nan        nan        nan\n",
      " 0.97777778 0.97777778 0.97777778 0.97777778 0.97777778 0.97777778\n",
      " 0.97777778 0.97777778 0.97777778 0.97777778 0.97777778 0.97777778\n",
      " 0.97777778 0.97777778 0.97777778 0.97777778 0.97777778 0.97777778\n",
      " 0.97777778 0.95555556 0.95555556 0.97777778 0.97777778 0.95555556\n",
      " 0.97777778 0.95555556 0.95555556 0.97777778 0.97777778 0.97777778\n",
      " 0.97777778 0.97777778 0.97777778 0.97777778 0.97777778 0.97777778\n",
      " 0.97777778 0.97777778 0.97777778 0.97777778 0.97777778 0.97777778\n",
      " 0.97777778 0.97777778 0.97777778 0.97777778 0.95555556 0.97777778\n",
      " 0.95555556 0.95555556 0.97777778 0.95555556 0.95555556 0.95555556]\n",
      "  warnings.warn(\n",
      "c:\\Users\\JOHN\\anaconda3\\envs\\AML\\lib\\site-packages\\sklearn\\base.py:1152: DataConversionWarning: A column-vector y was passed when a 1d array was expected. Please change the shape of y to (n_samples,), for example using ravel().\n",
      "  return fit_method(estimator, *args, **kwargs)\n"
     ]
    },
    {
     "name": "stdout",
     "output_type": "stream",
     "text": [
      "Best Parameters: {'bootstrap': True, 'max_depth': None, 'max_features': 'sqrt', 'min_samples_leaf': 1, 'min_samples_split': 2, 'n_estimators': 100}\n"
     ]
    }
   ],
   "source": [
    "# Split data into training and test sets\n",
    "X_train, X_test, y_train, y_test = train_test_split(x, y, test_size=0.2, random_state=42)\n",
    "\n",
    "# Define the parameter grid\n",
    "param_grid = {\n",
    "    'n_estimators': [100, 200, 300],\n",
    "    'max_depth': [None, 10, 20, 30],\n",
    "    'min_samples_split': [2, 5, 10],\n",
    "    'min_samples_leaf': [1, 2, 4],\n",
    "    'max_features': ['auto', 'sqrt', 'log2'],\n",
    "    'bootstrap': [True, False]\n",
    "}\n",
    "\n",
    "# Initialize the classifier\n",
    "rf = RandomForestClassifier()\n",
    "\n",
    "# Initialize GridSearchCV\n",
    "grid_search = GridSearchCV(estimator=rf, param_grid=param_grid, cv=3, n_jobs=-1, verbose=2)\n",
    "\n",
    "# Fit the model\n",
    "grid_search.fit(X_train, y_train)\n",
    "\n",
    "# Print the best parameters\n",
    "print(\"Best Parameters:\", grid_search.best_params_)\n"
   ]
  },
  {
   "cell_type": "markdown",
   "metadata": {},
   "source": [
    "### Data Preprocessing"
   ]
  },
  {
   "cell_type": "code",
   "execution_count": 3,
   "metadata": {},
   "outputs": [],
   "source": [
    "import os"
   ]
  },
  {
   "cell_type": "code",
   "execution_count": 4,
   "metadata": {},
   "outputs": [],
   "source": [
    "os.chdir(\"../\")"
   ]
  },
  {
   "cell_type": "code",
   "execution_count": 5,
   "metadata": {},
   "outputs": [
    {
     "data": {
      "text/plain": [
       "'d:\\\\Silent_Night\\\\mlops\\\\AML_Classification'"
      ]
     },
     "execution_count": 5,
     "metadata": {},
     "output_type": "execute_result"
    }
   ],
   "source": [
    "%pwd"
   ]
  },
  {
   "cell_type": "code",
   "execution_count": 6,
   "metadata": {},
   "outputs": [
    {
     "name": "stdout",
     "output_type": "stream",
     "text": [
      "          Timestamp  from_bank    Account   to_bank    account  \\\n",
      "0  2022/09/01 00:02       70.0  10042B660   22661.0  805F7F2B0   \n",
      "1  2022/09/01 00:19       70.0  10042B660  212996.0  80609B4C0   \n",
      "2  2022/09/01 00:01       70.0  10042B660   11305.0  807861770   \n",
      "3  2022/09/01 00:00    11968.0  815630C40  249349.0  815635220   \n",
      "4  2022/09/01 00:25       70.0  10042B660   11968.0  816F93AF0   \n",
      "\n",
      "   amount_received receiving_currency  amount_paid Payment_Currency  \\\n",
      "0         70831.64          US Dollar     70831.64        US Dollar   \n",
      "1         33705.47          US Dollar     33705.47        US Dollar   \n",
      "2       1097976.27          US Dollar   1097976.27        US Dollar   \n",
      "3           892.33          US Dollar       892.33        US Dollar   \n",
      "4          1808.14          US Dollar      1808.14        US Dollar   \n",
      "\n",
      "  Payment Format  is_laundering  \n",
      "0           Cash            1.0  \n",
      "1           Cash            1.0  \n",
      "2           Cash            1.0  \n",
      "3            ACH            1.0  \n",
      "4         Cheque            1.0  \n"
     ]
    }
   ],
   "source": [
    "import pandas as pd\n",
    "df=pd.read_csv(\"artifacts/data_ingestion/data.csv\")\n",
    "print(df.head())"
   ]
  },
  {
   "cell_type": "code",
   "execution_count": 20,
   "metadata": {},
   "outputs": [
    {
     "name": "stdout",
     "output_type": "stream",
     "text": [
      "Timestamp              object\n",
      "from_bank             float64\n",
      "Account                object\n",
      "to_bank               float64\n",
      "account                object\n",
      "amount_received       float64\n",
      "receiving_currency     object\n",
      "amount_paid           float64\n",
      "Payment_Currency       object\n",
      "Payment Format         object\n",
      "is_laundering         float64\n",
      "dtype: object\n",
      "\n",
      "\n",
      "receiving_currency\n",
      "12                    3622\n",
      "4                     2466\n",
      "14                     408\n",
      "8                      392\n",
      "10                     380\n",
      "7                      337\n",
      "13                     308\n",
      "11                     285\n",
      "0                      278\n",
      "9                      274\n",
      "3                      256\n",
      "6                      255\n",
      "1                      234\n",
      "5                      181\n",
      "2                      162\n",
      "Name: count, dtype: int64\n",
      "\n",
      "\n",
      "Payment_Currency\n",
      "12                  3634\n",
      "4                   2463\n",
      "14                   412\n",
      "8                    392\n",
      "10                   380\n",
      "7                    337\n",
      "13                   309\n",
      "11                   286\n",
      "0                    273\n",
      "9                    273\n",
      "3                    254\n",
      "6                    252\n",
      "1                    232\n",
      "5                    178\n",
      "2                    163\n",
      "Name: count, dtype: int64\n",
      "\n",
      "\n",
      "Payment Format\n",
      "0                 4592\n",
      "3                 2075\n",
      "4                 1445\n",
      "5                  726\n",
      "2                  609\n",
      "1                  232\n",
      "6                  159\n",
      "Name: count, dtype: int64\n",
      "\n",
      "\n",
      "is_laundering\n",
      "0                4919\n",
      "1                4919\n",
      "Name: count, dtype: int64\n"
     ]
    }
   ],
   "source": [
    "print(df.dtypes)\n",
    "#Get the unquie value count for categorical variable\n",
    "l=[\"receiving_currency\",\"Payment_Currency\",\"Payment Format\",\"is_laundering\"]\n",
    "for i in l:\n",
    "    print(\"\\n\")\n",
    "    print(processed_df[[i]].value_counts())"
   ]
  },
  {
   "cell_type": "code",
   "execution_count": 8,
   "metadata": {},
   "outputs": [
    {
     "name": "stdout",
     "output_type": "stream",
     "text": [
      "Timestamp             0\n",
      "from_bank             0\n",
      "Account               0\n",
      "to_bank               0\n",
      "account               0\n",
      "amount_received       0\n",
      "receiving_currency    0\n",
      "amount_paid           0\n",
      "Payment_Currency      0\n",
      "Payment Format        0\n",
      "is_laundering         0\n",
      "dtype: int64\n"
     ]
    }
   ],
   "source": [
    "print(df.isnull().sum())"
   ]
  },
  {
   "cell_type": "code",
   "execution_count": 9,
   "metadata": {},
   "outputs": [
    {
     "name": "stdout",
     "output_type": "stream",
     "text": [
      "\n",
      "\n",
      "account  \n",
      "811C599A0    26\n",
      "8021353D0    21\n",
      "811C597B0    21\n",
      "80266F880    19\n",
      "811ED7DF0    19\n",
      "             ..\n",
      "80617B250     1\n",
      "806174CC0     1\n",
      "8061702B0     1\n",
      "8061682F0     1\n",
      "81C1E4A41     1\n",
      "Name: count, Length: 8806, dtype: int64\n"
     ]
    }
   ],
   "source": [
    "l=[\"account\"]\n",
    "for i in l:\n",
    "    print(\"\\n\")\n",
    "    print(df[[i]].value_counts())\n"
   ]
  },
  {
   "cell_type": "code",
   "execution_count": 10,
   "metadata": {},
   "outputs": [],
   "source": [
    "df1=df.drop([\"Timestamp\",\"Account\",\"account\"],axis=1)"
   ]
  },
  {
   "cell_type": "code",
   "execution_count": 11,
   "metadata": {},
   "outputs": [
    {
     "name": "stdout",
     "output_type": "stream",
     "text": [
      "Categorical columns: ['receiving_currency', 'Payment_Currency', 'Payment Format']\n",
      "Continuous columns: ['from_bank', 'to_bank', 'amount_received', 'amount_paid', 'is_laundering']\n"
     ]
    }
   ],
   "source": [
    "\n",
    "# Lists to hold column names\n",
    "cate = []\n",
    "contin = []\n",
    "\n",
    "# Iterate over DataFrame columns and check data types\n",
    "for col in df1.columns:\n",
    "    if df[col].dtype == 'object':\n",
    "        cate.append(col)\n",
    "    elif df[col].dtype == 'float64':\n",
    "        contin.append(col)\n",
    "\n",
    "# Print results\n",
    "print(\"Categorical columns:\", cate)\n",
    "print(\"Continuous columns:\", contin)"
   ]
  },
  {
   "cell_type": "markdown",
   "metadata": {},
   "source": [
    "#### Check for corelation in continous feature using heatmap\n"
   ]
  },
  {
   "cell_type": "code",
   "execution_count": 12,
   "metadata": {},
   "outputs": [],
   "source": [
    "import seaborn as sns\n",
    "import matplotlib.pyplot as plt"
   ]
  },
  {
   "cell_type": "code",
   "execution_count": 13,
   "metadata": {},
   "outputs": [],
   "source": [
    "def heatmap(df,title):\n",
    "    plt.figure(figsize=(6,6))\n",
    "    sns.set(font_scale=1)\n",
    "    sns.heatmap(df.corr(), annot=True, cmap=\"coolwarm\")\n",
    "    if title: plt.title(f\"\\n{title}\\n\", fontsize=18)\n",
    "    plt.show()\n",
    "    return"
   ]
  },
  {
   "cell_type": "code",
   "execution_count": 14,
   "metadata": {},
   "outputs": [
    {
     "data": {
      "image/png": "[encoded data removed]",
      "text/plain": [
       "<Figure size 600x600 with 2 Axes>"
      ]
     },
     "metadata": {},
     "output_type": "display_data"
    }
   ],
   "source": [
    "data=df1[contin]\n",
    "heatmap(data,\"Corelation between variable\")\n",
    "#Conlusion there is not high corelation among independent variable"
   ]
  },
  {
   "cell_type": "code",
   "execution_count": 15,
   "metadata": {},
   "outputs": [],
   "source": [
    "def corr_for_target(data, target, title=None):\n",
    "    plt.figure(figsize=(4,8))\n",
    "    sns.set(font_scale=1)\n",
    "    \n",
    "    sns.heatmap(data.corr()[[target]].sort_values(target, ascending=False)[1:], annot=True, cmap=\"coolwarm\")\n",
    "    \n",
    "    if title: plt.title(f\"\\n{title}\\n\", fontsize=18)\n",
    "    return"
   ]
  },
  {
   "cell_type": "code",
   "execution_count": 16,
   "metadata": {},
   "outputs": [
    {
     "data": {
      "image/png": "[encoded data removed]",
      "text/plain": [
       "<Figure size 400x800 with 2 Axes>"
      ]
     },
     "metadata": {},
     "output_type": "display_data"
    }
   ],
   "source": [
    "heatmap1_df=df[['from_bank', 'to_bank', 'amount_received', 'amount_paid', 'is_laundering']]\n",
    "corr_for_target(heatmap1_df,\"is_laundering\",title= \"Heatmap for dependent variable\")"
   ]
  },
  {
   "cell_type": "code",
   "execution_count": 17,
   "metadata": {},
   "outputs": [
    {
     "ename": "SyntaxError",
     "evalue": "invalid syntax (3231478432.py, line 1)",
     "output_type": "error",
     "traceback": [
      "\u001b[1;36m  Cell \u001b[1;32mIn[17], line 1\u001b[1;36m\u001b[0m\n\u001b[1;33m    print(df[])\u001b[0m\n\u001b[1;37m             ^\u001b[0m\n\u001b[1;31mSyntaxError\u001b[0m\u001b[1;31m:\u001b[0m invalid syntax\n"
     ]
    }
   ],
   "source": []
  },
  {
   "cell_type": "code",
   "execution_count": 19,
   "metadata": {},
   "outputs": [
    {
     "name": "stdout",
     "output_type": "stream",
     "text": [
      "      receiving_currency  Payment_Currency  Payment Format  is_laundering  \\\n",
      "0                     12                12               2              1   \n",
      "1                     12                12               2              1   \n",
      "2                     12                12               2              1   \n",
      "3                     12                12               0              1   \n",
      "4                     12                12               3              1   \n",
      "...                  ...               ...             ...            ...   \n",
      "9833                  12                 4               0              0   \n",
      "9834                  12                12               3              0   \n",
      "9835                  12                12               0              0   \n",
      "9836                   4                 4               5              0   \n",
      "9837                  12                12               0              0   \n",
      "\n",
      "      from_bank   to_bank  amount_received  amount_paid  \n",
      "0     -0.590439 -0.481927        -0.018969    -0.018856  \n",
      "1     -0.590439  1.854354        -0.019002    -0.018889  \n",
      "2     -0.590439 -0.621317        -0.018044    -0.017931  \n",
      "3     -0.438094  2.300571        -0.019032    -0.018919  \n",
      "4     -0.590439 -0.613179        -0.019031    -0.018918  \n",
      "...         ...       ...              ...          ...  \n",
      "9833  -0.363817 -0.541974        -0.019031    -0.018918  \n",
      "9834  -0.591208 -0.725184        -0.018211    -0.018098  \n",
      "9835  -0.428273 -0.613964        -0.019031    -0.018918  \n",
      "9836  -0.191446 -0.376734        -0.019032    -0.018919  \n",
      "9837  -0.549568 -0.740589        -0.019033    -0.018919  \n",
      "\n",
      "[9838 rows x 8 columns]\n"
     ]
    }
   ],
   "source": [
    "#label encoding\n",
    "import pandas as pd\n",
    "from sklearn.preprocessing import LabelEncoder, StandardScaler\n",
    "\n",
    "# Initialize the LabelEncoder and StandardScaler\n",
    "label_encoder = LabelEncoder()\n",
    "standard_scaler = StandardScaler()\n",
    "processed_df=pd.DataFrame()\n",
    "encode=['receiving_currency', 'Payment_Currency', 'Payment Format',\"is_laundering\"]\n",
    "scale=['from_bank', 'to_bank', 'amount_received', 'amount_paid']\n",
    "for i in encode:\n",
    "    processed_df[i]=label_encoder.fit_transform(df[i])\n",
    "\n",
    "for i in scale:\n",
    "    processed_df[i]=standard_scaler.fit_transform(df[[i]])\n",
    "\n",
    "#Add the dependent feature to the data\n",
    "#processed_df[\"is_laundering\"]=df[\"is_laundering\"]\n",
    "\n",
    "print(processed_df)"
   ]
  },
  {
   "cell_type": "code",
   "execution_count": null,
   "metadata": {},
   "outputs": [],
   "source": []
  }
 ],
 "metadata": {
  "kernelspec": {
   "display_name": "AML",
   "language": "python",
   "name": "python3"
  },
  "language_info": {
   "codemirror_mode": {
    "name": "ipython",
    "version": 3
   },
   "file_extension": ".py",
   "mimetype": "text/x-python",
   "name": "python",
   "nbconvert_exporter": "python",
   "pygments_lexer": "ipython3",
   "version": "3.8.19"
  }
 },
 "nbformat": 4,
 "nbformat_minor": 2
}
