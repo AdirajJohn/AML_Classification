{
 "cells": [
  {
   "cell_type": "markdown",
   "metadata": {},
   "source": [
    "### Check AWS - local connection and data pulling capacity"
   ]
  },
  {
   "cell_type": "code",
   "execution_count": 1,
   "metadata": {},
   "outputs": [],
   "source": [
    "import boto3\n",
    "import pandas as pd\n",
    "import os"
   ]
  },
  {
   "cell_type": "code",
   "execution_count": 42,
   "metadata": {},
   "outputs": [],
   "source": [
    "#os.environ[\"AWS_ACCESS_KEY_ID\"]=\"\"\n",
    "#os.environ[\"AWS_SECRET_ACCESS_KEY\"]=\"\"\n"
   ]
  },
  {
   "cell_type": "code",
   "execution_count": 46,
   "metadata": {},
   "outputs": [],
   "source": [
    "s3=boto3.resource(\n",
    "    service_name=\"s3\",\n",
    "    region_name='ap-southeast-2',\n",
    "    aws_access_key_id=os.getenv(\"AWS_ACCESS_KEY_ID\"),\n",
    "    aws_secret_access_key=os.getenv(\"AWS_SECRET_ACCESS_KEY\")\n",
    ")"
   ]
  },
  {
   "cell_type": "code",
   "execution_count": 47,
   "metadata": {},
   "outputs": [],
   "source": [
    "s3.Bucket(\"blackflame11\").download_file(Key=\"Transaction.csv\",Filename=\"D:/Silent_Night/mlops/AML_Classification/research/test_data.csv\")\n",
    "#Conclusion: Data Pull from AWS is successful"
   ]
  },
  {
   "cell_type": "markdown",
   "metadata": {},
   "source": [
    "#### Modular Coding Approach"
   ]
  },
  {
   "cell_type": "code",
   "execution_count": 5,
   "metadata": {},
   "outputs": [],
   "source": [
    "import os"
   ]
  },
  {
   "cell_type": "code",
   "execution_count": 2,
   "metadata": {},
   "outputs": [
    {
     "data": {
      "text/plain": [
       "'d:\\\\Silent_Night\\\\mlops\\\\AML_Classification\\\\research'"
      ]
     },
     "execution_count": 2,
     "metadata": {},
     "output_type": "execute_result"
    }
   ],
   "source": [
    "%pwd\n",
    "#Conclusion: Move back to AML_Classification folder to access the configration file more easyly"
   ]
  },
  {
   "cell_type": "code",
   "execution_count": 3,
   "metadata": {},
   "outputs": [],
   "source": [
    "#Move back\n",
    "os.chdir(\"../\")"
   ]
  },
  {
   "cell_type": "code",
   "execution_count": 4,
   "metadata": {},
   "outputs": [
    {
     "data": {
      "text/plain": [
       "'d:\\\\Silent_Night\\\\mlops\\\\AML_Classification'"
      ]
     },
     "execution_count": 4,
     "metadata": {},
     "output_type": "execute_result"
    }
   ],
   "source": [
    "%pwd"
   ]
  },
  {
   "cell_type": "code",
   "execution_count": 11,
   "metadata": {},
   "outputs": [],
   "source": [
    "#Entity\n",
    "from dataclasses import dataclass \n",
    "from pathlib import Path\n",
    "\n",
    "@dataclass(frozen=True)# To ensure that we give correct type of input as specified for the data ingestion process.\n",
    "class DataIngestionConfig:\n",
    "    root_dir: Path\n",
    "    service: str\n",
    "    region: str\n",
    "    bucket_name: str\n",
    "    aws_file: str\n",
    "    download_path: Path\n",
    "    aws_access_key_id: str\n",
    "    aws_secret_access_key: str"
   ]
  },
  {
   "cell_type": "code",
   "execution_count": 12,
   "metadata": {},
   "outputs": [],
   "source": [
    "from AML_Classifier.constants import CONFIG_FILE_PATH,PARAMS_FILE_PATH\n",
    "from AML_Classifier.utils.common import read_yaml, create_directories"
   ]
  },
  {
   "cell_type": "code",
   "execution_count": 7,
   "metadata": {},
   "outputs": [],
   "source": [
    "import yaml"
   ]
  },
  {
   "cell_type": "code",
   "execution_count": 76,
   "metadata": {},
   "outputs": [],
   "source": [
    "with open('secrets.yaml', 'r') as file:\n",
    "    prime_service = yaml.safe_load(file)"
   ]
  },
  {
   "cell_type": "code",
   "execution_count": 16,
   "metadata": {},
   "outputs": [],
   "source": [
    "#Configration Manger\n",
    "\n",
    "from AML_Classifier.constants.__init__ import CONFIG_FILE_PATH,PARAMS_FILE_PATH\n",
    "from AML_Classifier.utils.common import read_yaml, create_directories\n",
    "\n",
    "class ConfigurationManager:\n",
    "    def __init__(self,config_filepath = CONFIG_FILE_PATH,params_filepath = PARAMS_FILE_PATH):\n",
    "        self.config= read_yaml(config_filepath)\n",
    "        self.params=read_yaml(params_filepath)\n",
    "\n",
    "        create_directories([self.config.artifacts_root])\n",
    "\n",
    "\n",
    "\n",
    "    def get_data_ingestion_config(self) -> DataIngestionConfig:\n",
    "        config = self.config.data_ingestion\n",
    "\n",
    "        #Create file path to store the dataset\n",
    "        create_directories([config.root_dir])\n",
    "        #Load the AWs connection info\n",
    "        with open('secrets.yaml', 'r') as file:\n",
    "            aws = yaml.safe_load(file)\n",
    "\n",
    "        data_ingestion_config= DataIngestionConfig(\n",
    "            root_dir = config.root_dir,\n",
    "            service = config.service,\n",
    "            region = config.region,\n",
    "            bucket_name = config.bucket_name,\n",
    "            aws_file = config.aws_file,\n",
    "            download_path = config.download_path,\n",
    "            aws_access_key_id = aws[\"aws_access_key_id\"],\n",
    "            aws_secret_access_key= aws['aws_secret_access_key']\n",
    "        )\n",
    "        return data_ingestion_config"
   ]
  },
  {
   "cell_type": "code",
   "execution_count": 18,
   "metadata": {},
   "outputs": [],
   "source": [
    "import boto3\n",
    "import os\n",
    "from AML_Classifier import logger\n",
    "import pandas as pd"
   ]
  },
  {
   "cell_type": "code",
   "execution_count": 14,
   "metadata": {},
   "outputs": [],
   "source": [
    "#Compontent\n",
    "\n",
    "class DataIngestion:\n",
    "    def __init__(self,config: DataIngestionConfig):\n",
    "        self.config = config    \n",
    "\n",
    "    \n",
    "    def download_file(self)->str:\n",
    "        try:\n",
    "            #Create the s3 object\n",
    "            s3=boto3.resource(\n",
    "                service_name=self.config.service,\n",
    "                region_name=self.config.region,\n",
    "                aws_access_key_id=self.config.aws_access_key_id,\n",
    "                aws_secret_access_key=self.config.aws_secret_access_key\n",
    "                )\n",
    "            \n",
    "            #download the data\n",
    "            s3.Bucket(self.config.bucket_name).download_file(Key=self.config.aws_file,Filename=self.config.download_path)\n",
    "\n",
    "            #Log\n",
    "            logger.info(f\"Downloaded data from {self.config.bucket_name} AWS bucket into the path {self.config.download_path}\")\n",
    "        \n",
    "        except Exception as e:\n",
    "            raise e\n",
    "            "
   ]
  },
  {
   "cell_type": "code",
   "execution_count": 19,
   "metadata": {},
   "outputs": [
    {
     "name": "stdout",
     "output_type": "stream",
     "text": [
      "[2024-06-30 09:33:21,567: INFO: common: yaml file: config\\config.yaml loaded successfully]\n",
      "[2024-06-30 09:33:21,575: INFO: common: yaml file: params.yaml loaded successfully]\n",
      "[2024-06-30 09:33:21,579: INFO: common: created directory at: artifacts]\n",
      "[2024-06-30 09:33:21,582: INFO: common: created directory at: artifacts/data_ingestion]\n"
     ]
    },
    {
     "name": "stdout",
     "output_type": "stream",
     "text": [
      "[2024-06-30 09:33:25,319: INFO: 3980503791: Downloaded data from blackflame11 AWS bucket into the path artifacts/data_ingestion/data.csv]\n"
     ]
    }
   ],
   "source": [
    "#pipeline\n",
    "try:\n",
    "    config=ConfigurationManager()\n",
    "    data_ingestion_config= config.get_data_ingestion_config()\n",
    "    data_ingestion=DataIngestion(config=data_ingestion_config)\n",
    "    data_ingestion.download_file()\n",
    "except Exception as e:\n",
    "    raise e"
   ]
  },
  {
   "cell_type": "code",
   "execution_count": null,
   "metadata": {},
   "outputs": [],
   "source": []
  }
 ],
 "metadata": {
  "kernelspec": {
   "display_name": "AML",
   "language": "python",
   "name": "python3"
  },
  "language_info": {
   "codemirror_mode": {
    "name": "ipython",
    "version": 3
   },
   "file_extension": ".py",
   "mimetype": "text/x-python",
   "name": "python",
   "nbconvert_exporter": "python",
   "pygments_lexer": "ipython3",
   "version": "3.8.19"
  }
 },
 "nbformat": 4,
 "nbformat_minor": 2
}
