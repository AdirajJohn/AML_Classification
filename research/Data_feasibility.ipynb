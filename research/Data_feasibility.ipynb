{
  "cells": [
    {
      "cell_type": "markdown",
      "metadata": {
        "id": "BTHsAGYx_JWg"
      },
      "source": [
        "## Data Feasibility"
      ]
    },
    {
      "cell_type": "markdown",
      "metadata": {},
      "source": [
        "#### This file was generated in Google Colab to downsample the data, making it manageable for our local system."
      ]
    },
    {
      "cell_type": "code",
      "execution_count": 39,
      "metadata": {
        "id": "eaa__4kSsAtk"
      },
      "outputs": [],
      "source": [
        "import pandas as pd"
      ]
    },
    {
      "cell_type": "code",
      "execution_count": 51,
      "metadata": {
        "id": "KAH6mp0Lser3"
      },
      "outputs": [],
      "source": [
        "df=pd.read_csv(\"/content/LI-Small_Trans.csv\")"
      ]
    },
    {
      "cell_type": "code",
      "execution_count": 52,
      "metadata": {
        "colab": {
          "base_uri": "https://localhost:8080/"
        },
        "id": "LWpigVj9sqij",
        "outputId": "f2ec7fa9-c987-47ab-efe3-376e955baae4"
      },
      "outputs": [
        {
          "name": "stdout",
          "output_type": "stream",
          "text": [
            "          Timestamp  From Bank    Account  To Bank  Account.1  \\\n",
            "0  2022/09/01 00:08         11  8000ECA90       11  8000ECA90   \n",
            "1  2022/09/01 00:21       3402  80021DAD0     3402  80021DAD0   \n",
            "2  2022/09/01 00:00         11  8000ECA90     1120  8006AA910   \n",
            "3  2022/09/01 00:16       3814  8006AD080     3814  8006AD080   \n",
            "4  2022/09/01 00:00         20  8006AD530       20  8006AD530   \n",
            "\n",
            "   Amount Received Receiving Currency  Amount Paid Payment Currency  \\\n",
            "0       3195403.00          US Dollar   3195403.00        US Dollar   \n",
            "1          1858.96          US Dollar      1858.96        US Dollar   \n",
            "2        592571.00          US Dollar    592571.00        US Dollar   \n",
            "3            12.32          US Dollar        12.32        US Dollar   \n",
            "4          2941.56          US Dollar      2941.56        US Dollar   \n",
            "\n",
            "  Payment Format  Is Laundering  \n",
            "0   Reinvestment            0.0  \n",
            "1   Reinvestment            0.0  \n",
            "2         Cheque            0.0  \n",
            "3   Reinvestment            0.0  \n",
            "4   Reinvestment            0.0  \n"
          ]
        }
      ],
      "source": [
        "print(df.head())"
      ]
    },
    {
      "cell_type": "markdown",
      "metadata": {
        "id": "vhq4JBF5-LzL"
      },
      "source": [
        "### To get the total count of each distinct value in the dependent variable"
      ]
    },
    {
      "cell_type": "code",
      "execution_count": 41,
      "metadata": {
        "id": "hmWnj80Jt3S_"
      },
      "outputs": [],
      "source": [
        "def count_value(name,target,path=\"D:/data/MLops_data/AML_data/\"):\n",
        "    df=pd.read_csv(path+name+\".csv\")\n",
        "    print(df[[target]].value_counts())\n",
        "    return df"
      ]
    },
    {
      "cell_type": "code",
      "execution_count": 53,
      "metadata": {
        "colab": {
          "base_uri": "https://localhost:8080/"
        },
        "id": "wqQpdfnqu0YC",
        "outputId": "08f24f1a-e5d6-4457-90de-c268fe4dfe18"
      },
      "outputs": [
        {
          "data": {
            "text/plain": [
              "Is Laundering\n",
              "0.0              21261\n",
              "Name: count, dtype: int64"
            ]
          },
          "execution_count": 53,
          "metadata": {},
          "output_type": "execute_result"
        }
      ],
      "source": [
        "df[[\"Is Laundering\"]].value_counts()"
      ]
    },
    {
      "cell_type": "code",
      "execution_count": 54,
      "metadata": {
        "colab": {
          "base_uri": "https://localhost:8080/"
        },
        "id": "ClzasDZ_9uAA",
        "outputId": "19439281-b92d-4d95-d9a8-5277a016f05a"
      },
      "outputs": [
        {
          "name": "stdout",
          "output_type": "stream",
          "text": [
            "21262\n"
          ]
        }
      ],
      "source": [
        "print(len(df))"
      ]
    },
    {
      "cell_type": "code",
      "execution_count": 43,
      "metadata": {
        "colab": {
          "base_uri": "https://localhost:8080/"
        },
        "id": "HBzPgy2NxS_e",
        "outputId": "e842ccd6-ba14-431f-cb96-17eb8b64933d"
      },
      "outputs": [
        {
          "data": {
            "text/plain": [
              "Index(['Timestamp', 'From Bank', 'Account', 'To Bank', 'Account.1',\n",
              "       'Amount Received', 'Receiving Currency', 'Amount Paid',\n",
              "       'Payment Currency', 'Payment Format', 'Is Laundering'],\n",
              "      dtype='object')"
            ]
          },
          "execution_count": 43,
          "metadata": {},
          "output_type": "execute_result"
        }
      ],
      "source": [
        "df.columns"
      ]
    },
    {
      "cell_type": "code",
      "execution_count": 44,
      "metadata": {
        "id": "iqXgPkndyDST"
      },
      "outputs": [],
      "source": [
        "#Rename columns\n",
        "new_col_names={\n",
        "    \"From Bank\":\"from_bank\",\n",
        "    \"To Bank\":\"to_bank\",\n",
        "    \"Account.1\":\"account\",\n",
        "    \"Amount Received\":\"amount_received\",\n",
        "    \"Receiving Currency\":\"receiving_currency\",\n",
        "    \"Payment Currency\":\"Payment_Currency\",\n",
        "    \"Payment_Format\":\"payment_format\",\n",
        "    \"Amount Paid\":\"amount_paid\",\n",
        "    \"Is Laundering\":\"is_laundering\"\n",
        "}"
      ]
    },
    {
      "cell_type": "code",
      "execution_count": 45,
      "metadata": {
        "id": "QeycCkV5zmie"
      },
      "outputs": [],
      "source": [
        "df=df.rename(columns=new_col_names)"
      ]
    },
    {
      "cell_type": "markdown",
      "metadata": {
        "id": "80Lzy6IJ-4o_"
      },
      "source": [
        "### To balance the number of sample in each class to avoid bias in classification modeling"
      ]
    },
    {
      "cell_type": "code",
      "execution_count": 46,
      "metadata": {
        "id": "t2x_FoH_xdtx"
      },
      "outputs": [],
      "source": [
        "def class_balance(df,target):\n",
        "  df_1=df[df[target]==1]\n",
        "  df_0=df[df[target]==0]\n",
        "  df_0_sample=df_0.sample(n=len(df_1))\n",
        "  df_final=pd.concat([df_1,df_0_sample],axis=0)\n",
        "  return df_final"
      ]
    },
    {
      "cell_type": "code",
      "execution_count": 47,
      "metadata": {
        "id": "NC4c6JoGx55S"
      },
      "outputs": [],
      "source": [
        "df_main=class_balance(df,\"is_laundering\")"
      ]
    },
    {
      "cell_type": "code",
      "execution_count": 48,
      "metadata": {
        "colab": {
          "base_uri": "https://localhost:8080/"
        },
        "id": "ZOvpBHLEz6Tq",
        "outputId": "204e0594-b5d4-49fc-b644-71105e5fd601"
      },
      "outputs": [
        {
          "name": "stdout",
          "output_type": "stream",
          "text": [
            "8248\n"
          ]
        }
      ],
      "source": [
        "print(len(df_main))"
      ]
    },
    {
      "cell_type": "code",
      "execution_count": 49,
      "metadata": {
        "colab": {
          "base_uri": "https://localhost:8080/"
        },
        "id": "VY17qO3T0Dk8",
        "outputId": "8a24e052-b095-477b-c683-85042ef31377"
      },
      "outputs": [
        {
          "name": "stdout",
          "output_type": "stream",
          "text": [
            "is_laundering\n",
            "1.0    4124\n",
            "0.0    4124\n",
            "Name: count, dtype: int64\n"
          ]
        }
      ],
      "source": [
        "print(df_main[\"is_laundering\"].value_counts())"
      ]
    },
    {
      "cell_type": "code",
      "execution_count": 50,
      "metadata": {
        "id": "Jx6kv1dA0Lc-"
      },
      "outputs": [],
      "source": [
        "#Save the csv\n",
        "df_main.to_csv(\"/content/HI_Small_Trans.csv\",index=False)"
      ]
    },
    {
      "cell_type": "code",
      "execution_count": null,
      "metadata": {
        "id": "9Nq6dqOU1hVT"
      },
      "outputs": [],
      "source": []
    }
  ],
  "metadata": {
    "accelerator": "GPU",
    "colab": {
      "gpuType": "T4",
      "provenance": []
    },
    "kernelspec": {
      "display_name": "Python 3",
      "name": "python3"
    },
    "language_info": {
      "name": "python"
    }
  },
  "nbformat": 4,
  "nbformat_minor": 0
}
